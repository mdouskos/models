{
 "cells": [
  {
   "cell_type": "code",
   "execution_count": 1,
   "metadata": {},
   "outputs": [],
   "source": [
    "import os\n",
    "import sys\n",
    "import glob\n",
    "import pickle\n",
    "import numpy as np\n",
    "from PIL import Image\n",
    "import matplotlib.pyplot as plt\n",
    "import cv2\n",
    "from tqdm import tqdm"
   ]
  },
  {
   "cell_type": "code",
   "execution_count": 2,
   "metadata": {},
   "outputs": [],
   "source": [
    "#sys.path.append('/c/Users/mdous/Repo/personal/graph-label-propagation')\n",
    "sys.path.append('/home/max/Repo/mdouskos/graph-label-propagation')\n",
    "import utils.save_annotation as voc_save"
   ]
  },
  {
   "cell_type": "code",
   "execution_count": 3,
   "metadata": {},
   "outputs": [],
   "source": [
    "flags = {'vis': False}"
   ]
  },
  {
   "cell_type": "code",
   "execution_count": 4,
   "metadata": {},
   "outputs": [],
   "source": [
    "BASE_PATH = '/media/max/My Passport/Data/lp_data'\n",
    "DATA_PATH = os.path.join(BASE_PATH, 'lp_full_500_20_1.0_0.0_1.0_1.0_True_0.95_0_False_0.01_500_0.5_512_dummy_False_0')\n",
    "SLIC_PATH = os.path.join(DATA_PATH, 'fig/slic')\n",
    "SCRIBBLE_PATH = os.path.join(BASE_PATH, 'scribble')\n",
    "CONFIDENCE_PATH = os.path.join(DATA_PATH, 'Confidences')\n",
    "LABEL_PATH = os.path.join(DATA_PATH, 'fig/pseudomask')\n",
    "OUTPUT_PATH = os.path.join(DATA_PATH,'fig/pm_filt')\n",
    "if not os.path.exists(OUTPUT_PATH):\n",
    "    os.mkdir(OUTPUT_PATH)\n",
    "get_filename = lambda x: os.path.splitext(os.path.basename(x))[0]"
   ]
  },
  {
   "cell_type": "code",
   "execution_count": 5,
   "metadata": {},
   "outputs": [],
   "source": [
    "def scribble_mask(imfile, dist=10, maskSize=5):\n",
    "    sc_path = os.path.join(SCRIBBLE_PATH, os.path.basename(imfile))\n",
    "    im = Image.open(sc_path)\n",
    "    np_im = np.array(im, dtype=np.uint8)\n",
    "    # scribble_pos = np.asarray(np_im < 255).nonzero()\n",
    "    np_scribble = np.where(np_im < 255, 0, 255).astype(np.uint8)\n",
    "    if dist>0:\n",
    "        chamf = cv2.distanceTransform(np_scribble, cv2.DIST_C, maskSize)\n",
    "        mask_d = np.where(chamf > dist, False, True)\n",
    "    else:\n",
    "        mask_d = np.where(np_im < 255,True, False)\n",
    "    if flags['vis']:\n",
    "        plt.imshow(mask_d)\n",
    "    return mask_d"
   ]
  },
  {
   "cell_type": "code",
   "execution_count": 6,
   "metadata": {},
   "outputs": [],
   "source": [
    "def valid_superpixels(imfile, mask_d):\n",
    "    # find superpixels containing the scribbles\n",
    "    slpath = os.path.join(SLIC_PATH, get_filename(imfile) + '_slic.npz.npy')\n",
    "    slic_im = np.load(slpath)    \n",
    "    superpixs = np.unique(slic_im[mask_d])  \n",
    "    mask_sp = np.full(slic_im.shape, False, dtype=bool)\n",
    "    for sp in superpixs:\n",
    "        mask_sp[slic_im == sp] = True\n",
    "    if flags['vis']:\n",
    "        plt.imshow(slic_im)\n",
    "        plt.imshow(mask_sp)\n",
    "    return mask_sp"
   ]
  },
  {
   "cell_type": "code",
   "execution_count": 7,
   "metadata": {},
   "outputs": [],
   "source": [
    "def confidence_mask(imfile):\n",
    "    conffile = os.path.join(CONFIDENCE_PATH, os.path.basename(imfile))\n",
    "    confidence = Image.open(conffile)\n",
    "    np_conf = np.array(confidence, dtype=np.float)/65535.\n",
    "    mask_conf = np.where(np_conf > 0.9, True, False)\n",
    "    if flags['vis']:\n",
    "        plt.imshow(mask_conf)\n",
    "    return mask_conf"
   ]
  },
  {
   "cell_type": "code",
   "execution_count": 8,
   "metadata": {},
   "outputs": [],
   "source": [
    "def filter_label(imfile, mask):\n",
    "    labelfile = os.path.join(LABEL_PATH, get_filename(imfile) + '_pseudomask.png')\n",
    "    label = Image.open(labelfile)\n",
    "    np_label = np.array(label, dtype=np.uint8)\n",
    "    filtered_label = np.where(mask,np_label,255)\n",
    "    if flags['vis']:\n",
    "        plt.imshow(filtered_label)\n",
    "    return filtered_label"
   ]
  },
  {
   "cell_type": "code",
   "execution_count": null,
   "metadata": {},
   "outputs": [],
   "source": [
    "combine_masks = lambda x: confidence_mask(x) & valid_superpixels(x, scribble_mask(x))\n",
    "\n",
    "filelist = glob.glob(CONFIDENCE_PATH + \"/*.png\")\n",
    "imfile = filelist[0]\n",
    "mask = combine_masks(imfile)\n",
    "filtered_label = filter_label(imfile, mask)\n",
    "\n",
    "plt.subplot(2,1,1)\n",
    "plt.imshow(mask)\n",
    "plt.subplot(2,1,2)\n",
    "plt.imshow(filtered_label)\n",
    "# ref = Image.open(os.path.join(SCRIBBLE_PATH, os.path.basename(imfile)))\n",
    "# print(np.any(np.abs(ref-filtered_label)>0))\n",
    "# plt.imshow(np.abs(ref-filtered_label))\n",
    "# voc_save.save_annotation_indexed(filtered_label, OUTPUT_PATH, get_filename(imfile))\n"
   ]
  },
  {
   "cell_type": "code",
   "execution_count": 9,
   "metadata": {},
   "outputs": [
    {
     "output_type": "stream",
     "name": "stderr",
     "text": "100%|██████████| 10582/10582 [20:29<00:00,  8.61it/s]\n"
    }
   ],
   "source": [
    "for imfile in tqdm(filelist):\n",
    "    # mask = confidence_mask(imfile) & valid_superpixels(imfile,scribble_mask(imfile, 0))\n",
    "    # mask = valid_superpixels(imfile, scribble_mask(imfile, 0))\n",
    "    mask = combine_masks(imfile)\n",
    "    if flags['vis']:\n",
    "        plt.imshow(mask)\n",
    "\n",
    "    filtered_label = filter_label(imfile, mask)\n",
    "    voc_save.save_annotation_indexed(filtered_label, OUTPUT_PATH, get_filename(imfile))"
   ]
  },
  {
   "cell_type": "code",
   "execution_count": null,
   "metadata": {},
   "outputs": [],
   "source": []
  }
 ],
 "metadata": {
  "language_info": {
   "codemirror_mode": {
    "name": "ipython",
    "version": 3
   },
   "file_extension": ".py",
   "mimetype": "text/x-python",
   "name": "python",
   "nbconvert_exporter": "python",
   "pygments_lexer": "ipython3",
   "version": "3.5.2-final"
  },
  "orig_nbformat": 2,
  "kernelspec": {
   "name": "python35264bittfvirtualenva91123200adb4891ad74e8be2776bceb",
   "display_name": "Python 3.5.2 64-bit ('tf': virtualenv)"
  }
 },
 "nbformat": 4,
 "nbformat_minor": 2
}