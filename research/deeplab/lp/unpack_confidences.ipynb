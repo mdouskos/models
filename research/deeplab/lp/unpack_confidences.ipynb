{
 "cells": [
  {
   "cell_type": "code",
   "execution_count": 1,
   "metadata": {},
   "outputs": [],
   "source": [
    "import os\n",
    "import pickle\n",
    "import numpy as np\n",
    "from PIL import Image"
   ]
  },
  {
   "cell_type": "code",
   "execution_count": 2,
   "metadata": {},
   "outputs": [
    {
     "output_type": "error",
     "ename": "SyntaxError",
     "evalue": "unexpected EOF while parsing (<ipython-input-2-0f5b15fd09f6>, line 4)",
     "traceback": [
      "\u001b[0;36m  File \u001b[0;32m\"<ipython-input-2-0f5b15fd09f6>\"\u001b[0;36m, line \u001b[0;32m4\u001b[0m\n\u001b[0;31m    OUTPUT_PATH = os.path.join(BASE_PATH, 'lp_data/Confidences'\u001b[0m\n\u001b[0m                                                               ^\u001b[0m\n\u001b[0;31mSyntaxError\u001b[0m\u001b[0;31m:\u001b[0m unexpected EOF while parsing\n"
     ]
    }
   ],
   "source": [
    "BASE_PATH = '/d/Data'\n",
    "DATA_PATH = os.path.join(BASE_PATH, 'lp_data/lp_full_500_20_1.0_0.0_1.0_1.0_True_0.95_0_False_0.01_500_0.5_512_dummy_False_0')\n",
    "CONFIDENCES_FILE = os.path.join(DATA_PATH,'condifences.pkl')\n",
    "OUTPUT_PATH = os.path.join(BASE_PATH, 'lp_data/Confidences')"
   ]
  },
  {
   "cell_type": "code",
   "execution_count": 3,
   "metadata": {},
   "outputs": [],
   "source": [
    "with open(CONFIDENCES_FILE,'rb') as f:\n",
    "    data = pickle.load(f)"
   ]
  },
  {
   "cell_type": "code",
   "execution_count": 5,
   "metadata": {
    "tags": [
     "outputPrepend",
     "outputPrepend",
     "outputPrepend",
     "outputPrepend"
    ]
   },
   "outputs": [],
   "source": [
    "imtype = np.uint16\n",
    "for id in data:\n",
    "    # np.save(id, data[id])\n",
    "    confidence_scaled = data[id]*np.iinfo(imtype).max\n",
    "    confidence_im = Image.fromarray(confidence_scaled.astype(imtype))\n",
    "    confidence_im.save(os.path.join(OUTPUT_PATH, id + '.png'), 'png')"
   ]
  },
  {
   "cell_type": "code",
   "execution_count": null,
   "metadata": {},
   "outputs": [],
   "source": []
  }
 ],
 "metadata": {
  "language_info": {
   "codemirror_mode": {
    "name": "ipython",
    "version": 3
   },
   "file_extension": ".py",
   "mimetype": "text/x-python",
   "name": "python",
   "nbconvert_exporter": "python",
   "pygments_lexer": "ipython3",
   "version": "3.6.7-final"
  },
  "orig_nbformat": 2,
  "kernelspec": {
   "name": "python36764bitsemanticvirtualenve687ac87a3dd4d37894143ea09b7a55e",
   "display_name": "Python 3.6.7 64-bit ('semantic': virtualenv)"
  }
 },
 "nbformat": 4,
 "nbformat_minor": 2
}