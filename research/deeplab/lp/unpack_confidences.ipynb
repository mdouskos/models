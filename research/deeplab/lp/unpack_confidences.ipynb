{
 "cells": [
  {
   "cell_type": "code",
   "execution_count": 1,
   "metadata": {},
   "outputs": [],
   "source": [
    "import os\n",
    "import pickle\n",
    "import numpy as np\n",
    "from PIL import Image"
   ]
  },
  {
   "cell_type": "code",
   "execution_count": 2,
   "metadata": {},
   "outputs": [],
   "source": [
    "DATA_PATH = '/media/max/My Passport/Data/lp_data/lp_test_scribbles_500_20_1.0_1.0_1.0_True_0.95_0_0'\n",
    "CONFIDENCES_FILE = os.path.join(DATA_PATH,'condifences.pkl')\n",
    "OUTPUT_PATH = '/media/Elements/Data/pascal_voc_seg/VOCdevkit/VOC2012/Confidences'"
   ]
  },
  {
   "cell_type": "code",
   "execution_count": 3,
   "metadata": {},
   "outputs": [],
   "source": [
    "with open(CONFIDENCES_FILE,'rb') as f:\n",
    "    data = pickle.load(f)"
   ]
  },
  {
   "cell_type": "code",
   "execution_count": 5,
   "metadata": {
    "tags": [
     "outputPrepend",
     "outputPrepend",
     "outputPrepend",
     "outputPrepend"
    ]
   },
   "outputs": [],
   "source": [
    "imtype = np.uint16\n",
    "for id in data:\n",
    "    # np.save(id, data[id])\n",
    "    confidence_scaled = data[id]*np.iinfo(imtype).max\n",
    "    confidence_im = Image.fromarray(confidence_scaled.astype(imtype))\n",
    "    confidence_im.save(os.path.join(OUTPUT_PATH, id + '.png'), 'png')"
   ]
  },
  {
   "cell_type": "code",
   "execution_count": null,
   "metadata": {},
   "outputs": [],
   "source": []
  }
 ],
 "metadata": {
  "language_info": {
   "codemirror_mode": {
    "name": "ipython",
    "version": 3
   },
   "file_extension": ".py",
   "mimetype": "text/x-python",
   "name": "python",
   "nbconvert_exporter": "python",
   "pygments_lexer": "ipython3",
   "version": "3.5.2-final"
  },
  "orig_nbformat": 2,
  "kernelspec": {
   "name": "python35264bittfvirtualenva91123200adb4891ad74e8be2776bceb",
   "display_name": "Python 3.5.2 64-bit ('tf': virtualenv)"
  }
 },
 "nbformat": 4,
 "nbformat_minor": 2
}